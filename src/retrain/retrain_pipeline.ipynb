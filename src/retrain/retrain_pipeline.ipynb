{
 "cells": [
  {
   "cell_type": "markdown",
   "metadata": {},
   "source": [
    "# Retrain pipeline\n",
    "\n",
    "\n",
    "## Collect Data\n",
    "\n",
    "if a Data drift coefficient alarm is received trough application insight the model needs to be retrained to make better predictions. As you can see in the image bellow, application insight has generate an alert because the Data Drift coefficient is greather than 0.1. \n",
    "\n",
    "<br/>\n",
    "\n",
    "<img src=\"images/alert.png\" alt=\"Data drift alert\"/>\n",
    "\n",
    "<br/>\n",
    "\n",
    "If The data drift service is enable (execute the data drift notebook to active the service) it will monitor the collected predictions every day. In the data drift tab of our Azure Machine Learning experiment more details can be found about Data Drift.\n",
    "\n",
    "As you can see in the image bellow, the drift contribution by feature have changed. In fact, the Drift contribution of sex is greather than the others because the users have made inferences with a different gender with which it was trained \n",
    "\n",
    "<img src=\"images/data_drift.png\" alt=\"Data drift alert\"/>\n",
    "\n",
    "<br/>\n"
   ]
  },
  {
   "cell_type": "markdown",
   "metadata": {},
   "source": [
    "For improve the performance of the model, all the historic data will be collected and uploaded as a dataset in our workspace. The CollectData class will obtain the data from the default blob storage. it will access the following route \n",
    "\n",
    "*/modeldata/&lt;subscriptionid>/&lt;resourcegroup>/&lt;workspace>/&lt;webservice>/&lt;model>/&lt;version>/&lt;designation>/&lt;year>/&lt;month>/&lt;day>/*"
   ]
  },
  {
   "cell_type": "code",
   "execution_count": null,
   "metadata": {},
   "outputs": [],
   "source": [
    "import warnings\n",
    "warnings.filterwarnings('ignore')\n",
    "from azureml.core import Workspace\n",
    "from collect_data import CollectData\n",
    "import sys\n",
    "import os\n",
    "from azureml.widgets import RunDetails\n",
    "from azureml.pipeline.core import PipelineRun, PipelineEndpoint\n",
    "from azureml.core.authentication import InteractiveLoginAuthentication\n",
    "\n",
    "sys.path.append(os.path.abspath(\"../utils\"))\n",
    "from pipeline_parameter_builder import PipelineParameterBuilder\n",
    "\n",
    "MODEL_NAME=\"heart_disease_model_automl\"\n",
    "SERVICE_NAME=\"heart-disease-service\""
   ]
  },
  {
   "cell_type": "markdown",
   "metadata": {},
   "source": [
    "Initialize the workspace with the azure subscription configuration"
   ]
  },
  {
   "cell_type": "code",
   "execution_count": null,
   "metadata": {},
   "outputs": [],
   "source": [
    "ws = Workspace.from_config(\"../notebooks-settings/config.json\")"
   ]
  },
  {
   "cell_type": "markdown",
   "metadata": {},
   "source": [
    "Create the CollectData object using the service name and the model name. it is necessary to give the name of the service and the model in order to collect all the data from our published service."
   ]
  },
  {
   "cell_type": "code",
   "execution_count": null,
   "metadata": {},
   "outputs": [],
   "source": [
    "cd = CollectData(ws,service_name=SERVICE_NAME,model_name=MODEL_NAME)"
   ]
  },
  {
   "cell_type": "markdown",
   "metadata": {},
   "source": [
    " The *get_historical_data_from* method will collect all the data for June. Once the process have finished, it will upload a new version of the dataset.\n",
    " \n",
    " <img src=\"images/retrain_dataset_view.png\" alt=\"Retrain dataset\"/>"
   ]
  },
  {
   "cell_type": "code",
   "execution_count": null,
   "metadata": {},
   "outputs": [],
   "source": [
    "cd.get_historical_data(year=\"2020\",month=\"<month as for example 01, 02, 03... 12>\")"
   ]
  },
  {
   "cell_type": "code",
   "execution_count": null,
   "metadata": {},
   "outputs": [],
   "source": []
  }
 ],
 "metadata": {
  "kernelspec": {
   "display_name": "Python 3",
   "language": "python",
   "name": "python3"
  },
  "language_info": {
   "codemirror_mode": {
    "name": "ipython",
    "version": 3
   },
   "file_extension": ".py",
   "mimetype": "text/x-python",
   "name": "python",
   "nbconvert_exporter": "python",
   "pygments_lexer": "ipython3",
   "version": "3.7.6"
  }
 },
 "nbformat": 4,
 "nbformat_minor": 2
}
