{
 "cells": [
  {
   "cell_type": "markdown",
   "metadata": {},
   "source": [
    "# Azure Machine Learning Responsible AI - Datadrift Detector"
   ]
  },
  {
   "cell_type": "markdown",
   "metadata": {},
   "source": [
    "## Overview\n",
    "\n",
    "Over time, models can become less effective at predicting accurately due to changing trends in feature data. This phenomenon is known as data drift, and it's important to monitor your machine learning solution to detect it so you can retrain your models if necessary.\n",
    "\n",
    "In this notebook, you learn how to monitor for data drift between the training dataset and inference data of a deployed model. In the context of machine learning, trained machine learning models may experience degraded prediction performance because of drift. With Azure Machine Learning, you can monitor data drift and the service can send an email alert to you when drift is detected.\n",
    "\n",
    "In this lab, you'll configure data drift monitoring for datasets.\n",
    "\n",
    "## What is Data Drift?\n",
    "In the context of machine learning, data drift is the change in model input data that leads to model performance degradation. It is one of the top reasons where model accuracy degrades over time, thus monitoring data drift helps detect model performance issues.\n"
   ]
  },
  {
   "cell_type": "markdown",
   "metadata": {},
   "source": [
    "## Prerequisites and Azure Machine Learning Basics\n",
    "\n",
    "Please, before anything set up with a working config file that has information on your workspace, subscription id, etc located on:\n",
    "\n",
    "- './notebooks/notebook-settings/config.json' "
   ]
  },
  {
   "cell_type": "markdown",
   "metadata": {},
   "source": [
    "## Imports"
   ]
  },
  {
   "cell_type": "code",
   "execution_count": null,
   "metadata": {},
   "outputs": [],
   "source": [
    "import os\n",
    "import sys\n",
    "import requests\n",
    "import azureml.core\n",
    "import warnings\n",
    "warnings.filterwarnings('ignore')\n",
    "\n",
    "from scripts.data_drift import DataDrift\n",
    "from azureml.datadrift import DataDriftDetector\n",
    "from scripts.azureml_service import AzureMLService\n",
    "from azureml.widgets import RunDetails\n",
    "from azureml.core.compute import ComputeTarget\n",
    "from azureml.core import Workspace, Run, Experiment, Datastore, Dataset\n",
    "\n",
    "sys.path.append(os.path.abspath(\"../utils\"))\n",
    "from attach_compute import get_compute_aml\n",
    "from workspace import get_workspace"
   ]
  },
  {
   "cell_type": "markdown",
   "metadata": {},
   "source": [
    "### Initialize Workspace"
   ]
  },
  {
   "cell_type": "markdown",
   "metadata": {},
   "source": [
    "Now you're ready to connect to your workspace using the Azure ML SDK.\n",
    "\n",
    "Note: If the authenticated session with your Azure subscription has expired since you completed the previous exercise, you'll be prompted to reauthenticate."
   ]
  },
  {
   "cell_type": "code",
   "execution_count": null,
   "metadata": {},
   "outputs": [],
   "source": [
    "ws = Workspace.from_config(\"../notebooks-settings/config.json\")\n",
    "print(ws.name, ws.resource_group, ws.location, ws.subscription_id, sep = '\\n')"
   ]
  },
  {
   "cell_type": "markdown",
   "metadata": {},
   "source": [
    "### Create a Datadrift Pipeline Compute"
   ]
  },
  {
   "cell_type": "markdown",
   "metadata": {},
   "source": [
    "#### Retrieve or create a Azure Machine Learning compute\n",
    "Azure Machine Learning Compute is a service for provisioning and managing clusters of Azure virtual machines for running machine learning workloads. Let's create a new Azure Machine Learning Compute in the current workspace, if it doesn't already exist. We will then run the training script on this compute target.\n",
    "\n",
    "If we could not find the compute with the given name in the previous cell, then we will create a new compute here. We will create an Azure Machine Learning Compute containing **STANDARD_D2_V2 CPU VMs**. This process is broken down into the following steps:\n",
    "\n",
    "1. Create the configuration\n",
    "2. Create the Azure Machine Learning compute\n",
    "\n",
    "**This process will take about 3 minutes and is providing only sparse output in the process. Please make sure to wait until the call returns before moving to the next cell.**"
   ]
  },
  {
   "cell_type": "markdown",
   "metadata": {},
   "source": [
    "#### List of Compute Targets on the workspace"
   ]
  },
  {
   "cell_type": "code",
   "execution_count": null,
   "metadata": {},
   "outputs": [],
   "source": [
    "cts = ws.compute_targets\n",
    "for ct in cts:\n",
    "    print(ct)"
   ]
  },
  {
   "cell_type": "code",
   "execution_count": null,
   "metadata": {},
   "outputs": [],
   "source": [
    "aml_compute_datadrift = \"df-compute\"\n",
    "vm_size = \"STANDARD_DS3_V2\"\n",
    "get_compute_aml(ws, aml_compute_datadrift, vm_size)\n",
    "print(\"Azure Machine Learning Compute attached\")"
   ]
  },
  {
   "cell_type": "markdown",
   "metadata": {},
   "source": [
    "## Configure DataDrift Detector\n",
    "\n",
    "### Create a Baseline Dataset\n",
    "To monitor a dataset for data drift, you must register a baseline dataset (usually the dataset used to train your model) to use as a point of comparison with data collected in the future.\n",
    "\n",
    "Using Azure Machine Learning, data drift will be monitored through our deployment. To monitor for data drift, a baseline dataset - usually the training dataset for a model - is specified. A second dataset - usually model input data gathered from a deployment - is tested against the baseline dataset.\n",
    "\n",
    "In the following cell the data drift detector will be activated and a DataDriftDetector will run at the specified, scheduled frequency.if the datadrift_coefficient reaches the given drift_threshold (0.1 by default) an alert will be sent trough application insights."
   ]
  },
  {
   "cell_type": "code",
   "execution_count": null,
   "metadata": {},
   "outputs": [],
   "source": [
    "datadrift = DataDrift(workspace=ws,\n",
    "          service_name=\"heart-disease-service\",\n",
    "          dataset_name=\"heart_disease_preprocessed_train\",\n",
    "          model_name=\"heart_disease_model_automl\",\n",
    "          compute_name=aml_compute_datadrift)"
   ]
  },
  {
   "cell_type": "markdown",
   "metadata": {},
   "source": [
    "Inside DataDrift class you're ready to create a data drift monitor for the heart-disease data. The data drift monitor will run periodicaly or on-demand to compare the baseline dataset with the target dataset, to which new data will be added over time. \n",
    "\n",
    "To run the data drift monitor, you'll need a compute target. In this lab, you'll use the compute cluster you created previously (if it doesn't exist, it will be created). Also, this class is already done to define the data drift monitor for your data. You can specify the features you want to monitor for data drift, the name of the compute target to be used to run the monitoring process, the frequency at which the data should be compared, the data drift threshold above which an alert should be triggered, and the latency (in hours) to allow for data collection.**notebooks\\monitoring\\scripts\\data_drift.py**"
   ]
  },
  {
   "cell_type": "code",
   "execution_count": null,
   "metadata": {
    "scrolled": true
   },
   "outputs": [],
   "source": [
    "datadrift.main()"
   ]
  },
  {
   "cell_type": "markdown",
   "metadata": {},
   "source": [
    "If you wanna to see the DataDrift Detector for the automl model:"
   ]
  },
  {
   "cell_type": "code",
   "execution_count": null,
   "metadata": {},
   "outputs": [],
   "source": [
    "DataDriftDetector.get(ws, \"<model_name>\", \"<model_version>\")"
   ]
  },
  {
   "cell_type": "markdown",
   "metadata": {},
   "source": [
    "If we view the details of our model in the models section of Azure Machine Learning a new information about the status of our data drift monitor service will appear.\n",
    "\n",
    "<img src=\"images/drift_service.png\" alt=\"Data drift monitor\">\n"
   ]
  },
  {
   "cell_type": "markdown",
   "metadata": {},
   "source": [
    "## Making predictions\n",
    "\n",
    "In the next cell we test our deployed service with an inference dataset that contains some examples.\n",
    "\n",
    "If our data drift service is enable, both datasets (training and inference) are profiled and input to the data drift monitoring service. A machine learning model is trained to detect differences between the two datasets. The model's performance is converted to the drift coefficient, which measures the magnitude of drift between the two datasets.\n",
    "\n",
    "To view results in your workspace in Azure Machine Learning studio, navigate to the model page. On the details tab of the model, the data drift configuration is shown. A Data drift tab is now available visualizing the data drift metrics\n",
    "\n",
    "<img src=\"images/drift-ui.png\" alt=\"Data drift graphs\">"
   ]
  },
  {
   "cell_type": "code",
   "execution_count": null,
   "metadata": {
    "scrolled": true
   },
   "outputs": [],
   "source": [
    "azml_service = AzureMLService(ws, 'heart-disease-service')\n",
    "azml_service.make_request('heart_disease_preprocessed_inference')"
   ]
  },
  {
   "cell_type": "markdown",
   "metadata": {},
   "source": [
    "Over time, you can collect new data with the same features as your baseline training data. To compare this new data to the baseline data, you must define a target dataset that includes the features you want to analyze for data drift as well as a timestamp field that indicates the point in time when the new data was current -this enables you to measure data drift over temporal intervals. The timestamp can either be a field in the dataset itself, or derived from the folder and filename pattern used to store the data. For example, you might store new data in a folder hierarchy that consists of a folder for the year, containing a folder for the month, which in turn contains a folder for the day; or you might just encode the year, month, and day in the file name like this: data_2020-01-29.csv; which is the approach taken on **re-train-pipeline** notebook that you can finde at **notebooks\\retrain\\retrain_pipeline.ipynb**"
   ]
  },
  {
   "cell_type": "markdown",
   "metadata": {},
   "source": [
    "## Visualize when Data Drift make alerts\n",
    "\n",
    "You can also visualize the data drift metrics in Azure Machine Learning studio by following these steps:\n",
    "\n",
    "1. On the Datasets page, view the Dataset monitors tab.\n",
    "2. Click the data drift monitor you want to view.\n",
    "3. Select the date range over which you want to view data drift metrics (if the column chart does not show multiple weeks of data, wait a minute or so and click Refresh).\n",
    "4. Examine the charts in the Drift overview section at the top, which show overall drift magnitude and the drift contribution per feature.\n",
    "5. Explore the charts in the Feature detail section at the bottom, which enable you to see various measures of drift for individual features.\n",
    "\n",
    "Note: For help understanding the data drift metrics, see the How to monitor datasets in the Azure Machine Learning documentation."
   ]
  },
  {
   "cell_type": "markdown",
   "metadata": {},
   "source": [
    "## Explore Further\n",
    "\n",
    "This notebook is designed to introduce you to the concepts and principles of data drift monitoring. To learn more about monitoring data drift using datasets, see the [Detect data drift on datasets](https://docs.microsoft.com/azure/machine-learning/how-to-monitor-datasets) in the Azure machine Learning documentation.\n",
    "\n",
    "You can also configure data drift monitoring for services deployed in an Azure Kubernetes Service (AKS) cluster. For more information about this, see [Detect data drift on models deployed to Azure Kubernetes Service (AKS)](https://docs.microsoft.com/azure/machine-learning/how-to-monitor-data-drift) in the Azure Machine Learning documentation."
   ]
  },
  {
   "cell_type": "markdown",
   "metadata": {},
   "source": [
    "## Delete DataDrift Detector"
   ]
  },
  {
   "cell_type": "markdown",
   "metadata": {},
   "source": [
    "If you wanna to delete your Data Drift Detector execute the following cell:"
   ]
  },
  {
   "cell_type": "code",
   "execution_count": null,
   "metadata": {},
   "outputs": [],
   "source": [
    "monitor = DataDriftDetector.get(ws, \"<model_name>\", \"<model_version>\")\n",
    "monitor.delete(wait_for_completion=True)"
   ]
  }
 ],
 "metadata": {
  "kernelspec": {
   "display_name": "DataDrift",
   "language": "python",
   "name": "heart-disease-datadrift"
  },
  "language_info": {
   "codemirror_mode": {
    "name": "ipython",
    "version": 3
   },
   "file_extension": ".py",
   "mimetype": "text/x-python",
   "name": "python",
   "nbconvert_exporter": "python",
   "pygments_lexer": "ipython3",
   "version": "3.7.7"
  }
 },
 "nbformat": 4,
 "nbformat_minor": 4
}
