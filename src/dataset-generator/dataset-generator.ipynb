{
 "cells": [
  {
   "cell_type": "markdown",
   "metadata": {},
   "source": [
    "# Dataset Generator"
   ]
  },
  {
   "cell_type": "markdown",
   "metadata": {},
   "source": [
    "In this notebook, we generate the dataset we will use to execute Azure Machine Learning Pipeline. We use, as we mentioned on the README file, the UCI heart disease dataset as baseline. With that base dataset we are able to generate a new one with more usefull information to do a more impact Responsible example. First we do this dataset to do a differential privacy execution, exploratory analysis more complex and also detect more fairness features to mitigate. "
   ]
  },
  {
   "cell_type": "code",
   "execution_count": null,
   "metadata": {},
   "outputs": [],
   "source": [
    "import pandas as pd\n",
    "import json\n",
    "import random\n",
    "from datetime import datetime, timedelta"
   ]
  },
  {
   "cell_type": "code",
   "execution_count": null,
   "metadata": {},
   "outputs": [],
   "source": [
    "SOURCE_FILENAME = '../../dataset/uci_dataset.csv'\n",
    "DESTINATION_FILENAME = '../../dataset/complete_patients_dataset.csv'\n",
    "ADDRESSES_FILENAME = 'addresses.json'\n",
    "MALE_NAMES_FILENAME = 'male-names.csv'\n",
    "FEMALE_NAMES_FILENAME = 'female-names.csv'"
   ]
  },
  {
   "cell_type": "code",
   "execution_count": null,
   "metadata": {},
   "outputs": [],
   "source": [
    "df = pd.read_csv(SOURCE_FILENAME)\n",
    "df.columns = ['age', 'sex', 'chest_pain_type', 'resting_blood_pressure', 'cholesterol', 'fasting_blood_sugar',              'rest_ecg', 'max_heart_rate_achieved', 'exercise_induced_angina', 'st_depression', 'st_slope', 'num_major_vessels', 'thalassemia', 'target']\n",
    "df.head()"
   ]
  },
  {
   "cell_type": "code",
   "execution_count": null,
   "metadata": {},
   "outputs": [],
   "source": [
    "# Addresses from https://github.com/EthanRBrown/rrad\n",
    "addresses = []\n",
    "with open(ADDRESSES_FILENAME, 'r') as f:\n",
    "    addresses = json.load(f)['addresses']"
   ]
  },
  {
   "cell_type": "code",
   "execution_count": null,
   "metadata": {},
   "outputs": [],
   "source": [
    "def get_attribute_or_empty(data, attribute, default=''):\n",
    "    return data[attribute] if attribute in data else default"
   ]
  },
  {
   "cell_type": "code",
   "execution_count": null,
   "metadata": {},
   "outputs": [],
   "source": [
    "def concat_name(first_name, last_name):\n",
    "    return f\"{first_name.split()[0].capitalize()} {last_name.capitalize()}\"\n",
    "\n",
    "def get_names_from_file(filename):\n",
    "    df = pd.read_csv(filename)\n",
    "    names = df.apply(lambda name: concat_name(str(name['first name']), str(name['last name'])), axis=1)\n",
    "    random.shuffle(names)\n",
    "    return names"
   ]
  },
  {
   "cell_type": "code",
   "execution_count": null,
   "metadata": {},
   "outputs": [],
   "source": [
    "def generate_ssn():\n",
    "    return f\"{random.randint(100, 999)}-{random.randint(10, 99)}-{random.randint(1000, 9999)}\""
   ]
  },
  {
   "cell_type": "code",
   "execution_count": null,
   "metadata": {},
   "outputs": [],
   "source": [
    "def gen_datetime(min_year=1900, max_year=datetime.now().year):\n",
    "    start = datetime(min_year, 1, 1, 00, 00, 00)\n",
    "    years = max_year - min_year + 1\n",
    "    end = start + timedelta(days=365 * years)\n",
    "    date = start + (end - start) * random.random()\n",
    "    return date.strftime(\"%m/%d/%Y\")\n",
    "\n",
    "def generate_observations(name, city):\n",
    "    return f\"{name} from {city}. Last visit on {gen_datetime(2018)}\""
   ]
  },
  {
   "cell_type": "code",
   "execution_count": null,
   "metadata": {
    "tags": []
   },
   "outputs": [],
   "source": [
    "male_names = get_names_from_file(MALE_NAMES_FILENAME)\n",
    "female_names = get_names_from_file(FEMALE_NAMES_FILENAME)"
   ]
  },
  {
   "cell_type": "code",
   "execution_count": null,
   "metadata": {},
   "outputs": [],
   "source": [
    "df['state'] = list(map(lambda address: get_attribute_or_empty(address, 'state'), addresses[:len(df.index)]))\n",
    "df['address'] = list(map(lambda address: get_attribute_or_empty(address, 'address1'), addresses[:len(df.index)]))\n",
    "df['city'] = list(map(lambda address: get_attribute_or_empty(address, 'city', 'Montgomery'), addresses[:len(df.index)]))\n",
    "df['postalCode'] = list(map(lambda address: get_attribute_or_empty(address, 'postalCode'), addresses[:len(df.index)]))\n",
    "df['name'] = male_names\n",
    "df['name'][df['sex'] == 0] = female_names\n",
    "df['ssn'] = df.apply(lambda x: generate_ssn(), axis=1)\n",
    "df['pregnant'] = 0\n",
    "df['pregnant'][df['sex'] == 0] = df[df['sex'] == 0].apply(lambda x: random.randint(0,1), axis=1)\n",
    "df['diabetic'] = df.apply(lambda x: 0 if random.randint(0,10) <= 7 else 1, axis=1)\n",
    "df['asthmatic'] = df.apply(lambda x: 0 if random.randint(0,10) <= 7 else 1, axis=1)\n",
    "df['observation'] = df.apply(lambda x: generate_observations(x['name'], x['city']), axis=1)\n",
    "df['smoker'] = df.apply(lambda x: 0 if random.randint(0,10) <= 7 else 1, axis=1)"
   ]
  },
  {
   "cell_type": "code",
   "execution_count": null,
   "metadata": {
    "tags": []
   },
   "outputs": [],
   "source": [
    "df.to_csv(DESTINATION_FILENAME, index=False)"
   ]
  },
  {
   "cell_type": "markdown",
   "metadata": {},
   "source": [
    "Check new custom dataset"
   ]
  },
  {
   "cell_type": "code",
   "execution_count": null,
   "metadata": {
    "tags": []
   },
   "outputs": [],
   "source": [
    "df.info()"
   ]
  },
  {
   "cell_type": "code",
   "execution_count": null,
   "metadata": {},
   "outputs": [],
   "source": []
  }
 ],
 "metadata": {
  "kernelspec": {
   "display_name": "Python 3",
   "language": "python",
   "name": "python3"
  },
  "language_info": {
   "codemirror_mode": {
    "name": "ipython",
    "version": 3
   },
   "file_extension": ".py",
   "mimetype": "text/x-python",
   "name": "python",
   "nbconvert_exporter": "python",
   "pygments_lexer": "ipython3",
   "version": "3.7.6"
  }
 },
 "nbformat": 4,
 "nbformat_minor": 2
}
